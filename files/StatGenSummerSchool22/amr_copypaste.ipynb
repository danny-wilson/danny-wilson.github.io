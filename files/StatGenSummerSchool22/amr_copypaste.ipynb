{
 "cells": [
  {
   "cell_type": "markdown",
   "id": "eccdaabc-83d4-427e-8da0-ead09efd35e2",
   "metadata": {},
   "source": [
    "# Bacterial Genome-Wide Association Study (GWAS) using kmers"
   ]
  },
  {
   "cell_type": "markdown",
   "id": "5fbba5c3-b3a5-4c4f-a187-894fa3091d0f",
   "metadata": {},
   "source": [
    "## 1. Preliminaries"
   ]
  },
  {
   "cell_type": "markdown",
   "id": "f8b9ff8b-04af-4164-b7bc-41a2b8373d3b",
   "metadata": {},
   "source": [
    "Run the initialization script. Note the [\\*] on the left means the script is running. When finished, the \\* will be replaced with a number. Wait until it is finished. The script will also say when it is done.\n",
    "\n",
    "If there is an error, remove the # from the second line and try again."
   ]
  },
  {
   "cell_type": "code",
   "execution_count": 25,
   "id": "661648c0-dcf1-4da8-a5bf-75c0ff501cb4",
   "metadata": {},
   "outputs": [
    {
     "name": "stdout",
     "output_type": "stream",
     "text": [
      "Downloading pre-computed data for 992 Staphylococcus aureus genomes ...\n",
      "Downloading antimicrobial resistance phenotypes for 992 S. aureus genomes ...\n",
      "Done !\n"
     ]
    }
   ],
   "source": [
    "%%bash\n",
    "# Bash code\n",
    "#chmod -R 755 ~/Wednesday/ && rm -rf ~/Wednesday\n",
    "bash ~/init.sh"
   ]
  },
  {
   "cell_type": "markdown",
   "id": "16acbce0-5d39-4d49-97e8-ebcf2fe9f63b",
   "metadata": {},
   "source": [
    "Set your workshop identifier."
   ]
  },
  {
   "cell_type": "code",
   "execution_count": 6,
   "id": "48cfb5e8-6463-4ea6-9e30-77abad2629fe",
   "metadata": {},
   "outputs": [
    {
     "name": "stdout",
     "output_type": "stream",
     "text": [
      "Your participant id is: workshop12\n"
     ]
    }
   ],
   "source": [
    "if 'PHENO' in globals():\n",
    "    print('Your participant id is already: ' + PHENO)\n",
    "else:\n",
    "    import random\n",
    "    PHENO = 'workshop' + str(random.randint(1, 35)).zfill(2)\n",
    "    print('Your participant id is: ' + PHENO)"
   ]
  },
  {
   "cell_type": "markdown",
   "id": "7a652597-366c-45db-b89c-c79e54309704",
   "metadata": {},
   "source": [
    "Define the location of input and output files as python variables."
   ]
  },
  {
   "cell_type": "code",
   "execution_count": 7,
   "id": "06dc9840-c484-46f2-88ad-74141a5d5f36",
   "metadata": {},
   "outputs": [],
   "source": [
    "# Location of the kmer_pipeline scripts\n",
    "SCRIPTS='/usr/local/bin'\n",
    "# Location of the S. aureus reference genomes\n",
    "REFDIR='/usr/share/kmer_pipeline/example'\n",
    "# File containing locations of software apps\n",
    "APPS=REFDIR+'/pipeline_software_location.txt'\n",
    "# Parent folder for the amr input/output data\n",
    "AMRDIR='/home/jovyan/Wednesday/amr'\n",
    "# Folder containing pre-computed genome data\n",
    "INDIR=AMRDIR+'/take1/take1_cip_nucleotide31'\n",
    "# Folder containing downloaded phenotypes\n",
    "PHENO_DIR=AMRDIR+'/phenotypes'\n",
    "# Folder for output of data analysis\n",
    "OUTDIR=AMRDIR+'/out'\n",
    "# Folder for storing error logs\n",
    "LOGDIR=OUTDIR+'/log'\n",
    "# Prefix for output files\n",
    "OUTPUT_PREFIX='amr'\n",
    "# Number of cores available per user\n",
    "NCORES='2'"
   ]
  },
  {
   "cell_type": "markdown",
   "id": "f9a5d024-37d2-450a-a3d2-52dce6f202ad",
   "metadata": {},
   "source": [
    "## 2. Run Genome-wide Efficient Mixed Model Associations (GEMMA)\n",
    "Xiang Zhou and Matthew Stephens (2012). Genome-wide efficient mixed-model analysis for association studies. *Nature Genetics* 44, 821–824.\n",
    "\n",
    "The following executes a bash script that first runs GEMMA in parallel then monitors the output to see when it is finished. It takes about 15 minutes to complete on two cores."
   ]
  },
  {
   "cell_type": "code",
   "execution_count": 30,
   "id": "0fcf4433-7ce5-4d5c-9e3c-e15942305035",
   "metadata": {
    "tags": []
   },
   "outputs": [
    {
     "name": "stdout",
     "output_type": "stream",
     "text": [
      "GEMMA scripts launched ...\n"
     ]
    }
   ],
   "source": [
    "%%script env SCRIPTS=\"$SCRIPTS\" REFDIR=\"$REFDIR\" APPS=\"$APPS\" AMRDIR=\"$AMRDIR\" INDIR=\"$INDIR\" PHENO_DIR=\"$PHENO_DIR\" OUTDIR=\"$OUTDIR\" LOGDIR=\"$LOGDIR\" OUTPUT_PREFIX=\"$OUTPUT_PREFIX\" NCORES=\"$NCORES\" PHENO=\"$PHENO\" bash\n",
    "# Bash script\n",
    "#!/usr/bin/env\n",
    "# Create the output directories\n",
    "mkdir -p $OUTDIR\n",
    "mkdir -p $LOGDIR\n",
    "cd $OUTDIR\n",
    "# Parallelize over multiple cores\n",
    "for SGE_TASK_ID in $(seq 1 $NCORES); do\n",
    "    # Remove previous log files\n",
    "    rm -f $LOGDIR/rungemma.$SGE_TASK_ID.log\n",
    "    # Execute the Rscript wrapper for GEMMA\n",
    "    SGE_TASK_ID=$SGE_TASK_ID \\\n",
    "        $SCRIPTS/rungemma.Rscript $NCORES $INDIR \\\n",
    "        $PHENO_DIR/$PHENO.txt $OUTPUT_PREFIX.$PHENO \\\n",
    "        $OUTDIR nucleotide 31 $APPS &> \\\n",
    "        $LOGDIR/rungemma.$SGE_TASK_ID.log &\n",
    "    # Record process ID\n",
    "    PIDS[${SGE_TASK_ID}]=$!\n",
    "done\n",
    "echo 'GEMMA scripts launched ...'"
   ]
  },
  {
   "cell_type": "code",
   "execution_count": 23,
   "id": "f71cc7c5-b06e-4a95-a5a4-6eead27341be",
   "metadata": {},
   "outputs": [
    {
     "name": "stdout",
     "output_type": "stream",
     "text": [
      " \n",
      "1a. Open a new Terminal tab (select from the menu File->New Terminal)\n",
      "1b. Copy and paste the following line to track the progress of the first job:\n",
      " \n",
      "        tail --follow -n +1 /home/jovyan/Wednesday/amr/out/log/rungemma.1.log\n",
      " \n",
      " \n",
      "2a. Open a second Terminal tab in the same way\n",
      "2b. Copy and paste the following code to track the progress of the second job:\n",
      " \n",
      "        tail --follow -n +1 /home/jovyan/Wednesday/amr/out/log/rungemma.2.log\n",
      " \n",
      " \n"
     ]
    }
   ],
   "source": [
    "%%script env LOGDIR=\"$LOGDIR\" bash\n",
    "echo ' '\n",
    "echo '1a. Open a new Terminal tab (select from the menu File->New Terminal)'\n",
    "echo '1b. Copy and paste the following line to track the progress of the first job:'\n",
    "echo ' '\n",
    "echo '        tail --follow -n +1 '$LOGDIR'/rungemma.1.log'\n",
    "echo ' '\n",
    "echo ' '\n",
    "echo '2a. Open a second Terminal tab in the same way'\n",
    "echo '2b. Copy and paste the following code to track the progress of the second job:'\n",
    "echo ' '\n",
    "echo '        tail --follow -n +1 '$LOGDIR'/rungemma.2.log'\n",
    "echo ' '\n",
    "echo ' '"
   ]
  },
  {
   "cell_type": "markdown",
   "id": "41ab1f95-179b-45c4-913a-dc011a142f77",
   "metadata": {},
   "source": [
    "Monitor the Terminal sessions to see when the processes have both finished.\n",
    "\n",
    "When **both jobs have finished**, move on to the next section.\n",
    "This takes about 15 minutes."
   ]
  },
  {
   "cell_type": "markdown",
   "id": "d6079fbd-c771-44e3-8269-2cd54fc3d970",
   "metadata": {},
   "source": [
    "## 3. Create Figures to Interpret Results\n",
    "\n",
    "**Warning**: executing the code below prematurely will terminate Step 2, requiring it to be re-run. If this happens, you should see 'No such file or directory' errors in the Step 2 log files."
   ]
  },
  {
   "cell_type": "code",
   "execution_count": 31,
   "id": "6c70f730-6805-4f3f-a02b-a3b67eeeb3fa",
   "metadata": {},
   "outputs": [],
   "source": [
    "%%script env SCRIPTS=\"$SCRIPTS\" REFDIR=\"$REFDIR\" APPS=\"$APPS\" AMRDIR=\"$AMRDIR\" INDIR=\"$INDIR\" PHENO_DIR=\"$PHENO_DIR\" OUTDIR=\"$OUTDIR\" LOGDIR=\"$LOGDIR\" OUTPUT_PREFIX=\"$OUTPUT_PREFIX\" NCORES=\"$NCORES\" PHENO=\"$PHENO\" bash\n",
    "# Bash script: press Shift+Enter\n",
    "#!/usr/bin/env\n",
    "# Execute the Rscript that produces the figures\n",
    "cd $OUTDIR\n",
    "SGE_TASK_ID=1; SGE_TASK_ID=$SGE_TASK_ID \\\n",
    "    $SCRIPTS/plotManhattanbowtie.Rscript \\\n",
    "    $OUTPUT_PREFIX.$PHENO $OUTDIR $INDIR \\\n",
    "    $REFDIR/R00000022.gbk $REFDIR/R00000022.fa \\\n",
    "    $PHENO_DIR/$PHENO.txt nucleotide 31 0.01 10 $APPS \\\n",
    "    70 &> $LOGDIR/plotManhattanbowtie.$SGE_TASK_ID.log &"
   ]
  },
  {
   "cell_type": "code",
   "execution_count": 32,
   "id": "efb73378-b7f1-4eff-a17f-a8cd5d7ef872",
   "metadata": {},
   "outputs": [
    {
     "name": "stdout",
     "output_type": "stream",
     "text": [
      "\n",
      "3a. Open a new Terminal tab (select from the menu File->New Terminal)\n",
      "3b. Copy and paste the following line to track the progress of the first job:\n",
      " \n",
      "        tail --follow -n +1 /home/jovyan/Wednesday/amr/out/log/plotManhattanbowtie.1.log\n",
      " \n",
      " \n"
     ]
    }
   ],
   "source": [
    "%%script env LOGDIR=\"$LOGDIR\" bash\n",
    "echo ''\n",
    "echo '3a. Open a new Terminal tab (select from the menu File->New Terminal)'\n",
    "echo '3b. Copy and paste the following line to track the progress of the first job:'\n",
    "echo ' '\n",
    "echo '        tail --follow -n +1 '$LOGDIR'/plotManhattanbowtie.1.log'\n",
    "echo ' '\n",
    "echo ' '"
   ]
  },
  {
   "cell_type": "markdown",
   "id": "5d3053e5-9cdf-448a-859e-7f3bdc0f5665",
   "metadata": {},
   "source": [
    "4a. Once finished, select the Folder icon on the Left Siderbar, if it is not already open.\n",
    "\n",
    "4b. Navigate to Wednesday/amr/out/nucleotidekmer31_bowtie2mapping_figures\n"
   ]
  },
  {
   "cell_type": "code",
   "execution_count": null,
   "id": "0965cd63-87a3-41b5-846c-bd688d06ba27",
   "metadata": {},
   "outputs": [],
   "source": []
  }
 ],
 "metadata": {
  "kernelspec": {
   "display_name": "Python 3 (ipykernel)",
   "language": "python",
   "name": "python3"
  },
  "language_info": {
   "codemirror_mode": {
    "name": "ipython",
    "version": 3
   },
   "file_extension": ".py",
   "mimetype": "text/x-python",
   "name": "python",
   "nbconvert_exporter": "python",
   "pygments_lexer": "ipython3",
   "version": "3.10.4"
  }
 },
 "nbformat": 4,
 "nbformat_minor": 5
}
